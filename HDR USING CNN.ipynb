{
 "cells": [
  {
   "cell_type": "markdown",
   "id": "62681b3e",
   "metadata": {},
   "source": [
    "# 1. COLLECT THE IMAGES"
   ]
  },
  {
   "cell_type": "code",
   "execution_count": null,
   "id": "590b211e",
   "metadata": {},
   "outputs": [],
   "source": []
  },
  {
   "cell_type": "code",
   "execution_count": 41,
   "id": "42f7e7b9",
   "metadata": {
    "scrolled": false
   },
   "outputs": [
    {
     "name": "stdout",
     "output_type": "stream",
     "text": [
      "saved. . 0\n",
      "clear screen and redraw again...\n",
      "saved. . 1\n",
      "clear screen and redraw again...\n",
      "saved. . 2\n",
      "clear screen and redraw again...\n",
      "saved. . 3\n",
      "clear screen and redraw again...\n",
      "saved. . 4\n",
      "clear screen and redraw again...\n",
      "saved. . 5\n",
      "clear screen and redraw again...\n",
      "saved. . 6\n",
      "clear screen and redraw again...\n",
      "saved. . 7\n",
      "clear screen and redraw again...\n",
      "saved. . 8\n",
      "clear screen and redraw again...\n",
      "saved. . 9\n",
      "clear screen and redraw again...\n"
     ]
    }
   ],
   "source": [
    "def screen_capture():\n",
    "    import pyscreenshot as ImageGrab\n",
    "    import time\n",
    "    \n",
    "    images_folder=\"New_Images/\"\n",
    "    \n",
    "    for i in range(10):\n",
    "        time.sleep(15)\n",
    "        im= ImageGrab.grab(bbox=(40,170,400,550))\n",
    "        print(\"saved. .\",i)\n",
    "        im.save(images_folder+str(i)+'.png')\n",
    "        print(\"clear screen and redraw again...\")\n",
    "\n",
    "screen_capture()"
   ]
  },
  {
   "cell_type": "markdown",
   "id": "d2306355",
   "metadata": {},
   "source": [
    "# 2 Create data with label"
   ]
  },
  {
   "cell_type": "code",
   "execution_count": 42,
   "id": "83e0e08c",
   "metadata": {},
   "outputs": [],
   "source": [
    "import numpy as np\n",
    "def create_label(image_name):\n",
    "    if image_name=='0':\n",
    "        return np.array([1,0,0,0,0,0,0,0,0,0])\n",
    "    elif image_name=='1':\n",
    "        return np.array([0,1,0,0,0,0,0,0,0,0])\n",
    "    elif image_name=='2':\n",
    "        return np.array([0,0,1,0,0,0,0,0,0,0])\n",
    "    elif image_name=='3':\n",
    "        return np.array([0,0,0,1,0,0,0,0,0,0])\n",
    "    elif image_name=='4':\n",
    "        return np.array([0,0,0,0,1,0,0,0,0,0])\n",
    "    elif image_name=='5':\n",
    "        return np.array([0,0,0,0,0,1,0,0,0,0])\n",
    "    elif image_name=='6':\n",
    "        return np.array([0,0,0,0,0,0,1,0,0,0])\n",
    "    elif image_name=='7':\n",
    "        return np.array([0,0,0,0,0,0,0,1,0,0])\n",
    "    elif image_name=='8':\n",
    "        return np.array([0,0,0,0,0,0,0,0,1,0])\n",
    "    elif image_name=='9':\n",
    "        return np.array([0,0,0,0,0,0,0,0,0,1])"
   ]
  },
  {
   "cell_type": "code",
   "execution_count": 14,
   "id": "4e4ca673",
   "metadata": {},
   "outputs": [],
   "source": [
    "import os\n",
    "import cv2\n",
    "from random import shuffle\n",
    "from tqdm import tqdm\n",
    "\n",
    "def create_data():\n",
    "    data=[]\n",
    "    for folder in tqdm(os.listdir(\"Capture Image\")):\n",
    "        for img in os.listdir(\"Capture Image/\"+folder):\n",
    "            path=os.path.join(\"Capture Image\",folder,img)\n",
    "            img_data=cv2.imread(path,cv2.IMREAD_GRAYSCALE)\n",
    "            try:\n",
    "                img_data=cv2.resize(img_data,(28,28))\n",
    "            except cv2.error as e:\n",
    "                continue\n",
    "            data.append([np.array(img_data),create_label(folder)])\n",
    "    shuffle(data)\n",
    "    return data"
   ]
  },
  {
   "cell_type": "code",
   "execution_count": 43,
   "id": "01f95eb3",
   "metadata": {},
   "outputs": [
    {
     "name": "stderr",
     "output_type": "stream",
     "text": [
      "100%|██████████████████████████████████████████████████████████████████████████████████| 11/11 [00:05<00:00,  1.84it/s]\n"
     ]
    }
   ],
   "source": [
    "data=create_data()"
   ]
  },
  {
   "cell_type": "markdown",
   "id": "9e68b79f",
   "metadata": {},
   "source": [
    "# 3. Dividing data into training and testing part"
   ]
  },
  {
   "cell_type": "code",
   "execution_count": 44,
   "id": "6aecfffc",
   "metadata": {},
   "outputs": [],
   "source": [
    "train=data[:800]\n",
    "test=data[800:]\n",
    "x_train=np.array([i[0]for i in train]).reshape(-1,28,28,1)\n",
    "y_train=[i[1] for i in train]\n",
    "x_test=np.array([i[0] for i in test]).reshape(-1,28,28,1)\n",
    "y_test=[i[1] for  i in test]"
   ]
  },
  {
   "cell_type": "markdown",
   "id": "62f3eca8",
   "metadata": {},
   "source": [
    "# 4.Bulid the model"
   ]
  },
  {
   "cell_type": "code",
   "execution_count": 45,
   "id": "cc0ea233",
   "metadata": {},
   "outputs": [],
   "source": [
    "# import warnings\n",
    "# warnings.filterwarnings('ignore')\n",
    "import tensorflow as tf\n",
    "import tflearn\n",
    "from tflearn.layers.conv import conv_2d, max_pool_2d\n",
    "from tflearn.layers.core import input_data, dropout, fully_connected\n",
    "from tflearn.layers.estimator import regression"
   ]
  },
  {
   "cell_type": "code",
   "execution_count": 46,
   "id": "5144b9d2",
   "metadata": {},
   "outputs": [
    {
     "name": "stdout",
     "output_type": "stream",
     "text": [
      "Training Step: 155  | total loss: \u001b[1m\u001b[32m0.18010\u001b[0m\u001b[0m | time: 0.633s\n",
      "| Adam | epoch: 012 | loss: 0.18010 - acc: 0.9823 -- iter: 768/800\n",
      "Training Step: 156  | total loss: \u001b[1m\u001b[32m0.16251\u001b[0m\u001b[0m | time: 1.694s\n",
      "| Adam | epoch: 012 | loss: 0.16251 - acc: 0.9841 | val_loss: 0.03998 - val_acc: 0.9898 -- iter: 800/800\n",
      "--\n"
     ]
    }
   ],
   "source": [
    "tf.compat.v1.reset_default_graph()\n",
    "convnet = input_data(shape=[28,28,1],name='input')\n",
    "convnet = conv_2d(convnet, 32, 5, activation='relu')\n",
    "convnet = max_pool_2d(convnet,5)\n",
    "convnet = conv_2d(convnet, 64, 5, activation='relu')\n",
    "convnet = max_pool_2d(convnet,5)\n",
    "convnet = conv_2d(convnet, 128, 5, activation='relu')\n",
    "convnet = max_pool_2d(convnet,5)\n",
    "# convnet = conv_2d(convnet, 64, 5, activation='relu')\n",
    "# convnet = max_pool_2d(convnet,5)\n",
    "convnet = conv_2d(convnet, 32, 5, activation='relu')\n",
    "convnet = max_pool_2d(convnet,5)\n",
    "convnet=fully_connected(convnet,1024,activation='relu')\n",
    "# convnet=dropout(convnet, 0.5)\n",
    "convnet=fully_connected(convnet,10,activation='softmax')\n",
    "convnet=regression(convnet , optimizer='adam',learning_rate=0.001,loss='categorical_crossentropy', name='targets')\n",
    "model=tflearn.DNN(convnet,tensorboard_verbose=1)\n",
    "model.fit({'input':x_train},{'targets':y_train}, n_epoch=12, \n",
    "          validation_set=({'input':x_test},{'targets':y_test}),show_metric=True)"
   ]
  },
  {
   "cell_type": "markdown",
   "id": "209a4fc0",
   "metadata": {},
   "source": [
    "# 5. Predict and Display using motplotlib\n"
   ]
  },
  {
   "cell_type": "code",
   "execution_count": 47,
   "id": "4bf570e6",
   "metadata": {},
   "outputs": [],
   "source": [
    "def crreate_data():\n",
    "    data=[]\n",
    "    for img in tqdm(os.listdir(\"new_Images\")):\n",
    "        path=os.path.join('new_images',img)\n",
    "        img_num=img.split('.')[0]\n",
    "        img_data=cv2.imread(path,cv2.IMREAD_GRAYSCALE)\n",
    "        try:\n",
    "            img_data=cv2.resize(img_data,(28,28))\n",
    "        except cv2.error as e:\n",
    "             continue\n",
    "        data.append([np.array(img_data), img_num])\n",
    "    shuffle(data)\n",
    "    return data\n",
    "        "
   ]
  },
  {
   "cell_type": "code",
   "execution_count": 48,
   "id": "26f8b90f",
   "metadata": {},
   "outputs": [
    {
     "name": "stderr",
     "output_type": "stream",
     "text": [
      "100%|█████████████████████████████████████████████████████████████████████████████████| 11/11 [00:00<00:00, 263.84it/s]\n"
     ]
    }
   ],
   "source": [
    "test_data=crreate_data()"
   ]
  },
  {
   "cell_type": "code",
   "execution_count": 50,
   "id": "ba1b8fce",
   "metadata": {},
   "outputs": [
    {
     "data": {
      "image/png": "[encoded data removed]",
      "text/plain": [
       "<Figure size 720x720 with 10 Axes>"
      ]
     },
     "metadata": {
      "needs_background": "light"
     },
     "output_type": "display_data"
    }
   ],
   "source": [
    "import matplotlib.pyplot as plt\n",
    "fig=plt.figure(figsize=(10,10))\n",
    "for num , data in enumerate(test_data[:10]):\n",
    "    img_data=data[0]\n",
    "    y=fig.add_subplot(5,5,num+1)\n",
    "    orig=img_data\n",
    "    data=img_data.reshape(28,28,1)\n",
    "    model_out= model.predict([data])\n",
    "    str_label=\"Prediction \"+str(np.argmax(model_out))\n",
    "    \n",
    "    y.imshow(orig, cmap='gray')\n",
    "    plt.title(str_label)\n",
    "    y.axes.get_xaxis().set_visible(False)\n",
    "    y.axes.get_yaxis().set_visible(False)\n",
    "plt.show()  "
   ]
  },
  {
   "cell_type": "code",
   "execution_count": null,
   "id": "7f3ee339",
   "metadata": {},
   "outputs": [],
   "source": []
  },
  {
   "cell_type": "code",
   "execution_count": null,
   "id": "73b87ec4",
   "metadata": {},
   "outputs": [],
   "source": []
  }
 ],
 "metadata": {
  "kernelspec": {
   "display_name": "Python 3 (ipykernel)",
   "language": "python",
   "name": "python3"
  },
  "language_info": {
   "codemirror_mode": {
    "name": "ipython",
    "version": 3
   },
   "file_extension": ".py",
   "mimetype": "text/x-python",
   "name": "python",
   "nbconvert_exporter": "python",
   "pygments_lexer": "ipython3",
   "version": "3.9.7"
  }
 },
 "nbformat": 4,
 "nbformat_minor": 5
}
